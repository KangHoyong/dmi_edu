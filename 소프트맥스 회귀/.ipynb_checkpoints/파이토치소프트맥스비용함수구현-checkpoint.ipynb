{
 "cells": [
  {
   "cell_type": "code",
   "execution_count": 69,
   "metadata": {},
   "outputs": [
    {
     "data": {
      "text/plain": [
       "<torch._C.Generator at 0x10d3eab70>"
      ]
     },
     "execution_count": 69,
     "metadata": {},
     "output_type": "execute_result"
    }
   ],
   "source": [
    "# 파이토치로 소프트맥스의 비용 함수 구현하기 \n",
    "import torch\n",
    "import torch.nn as nn \n",
    "import torch.nn.functional as F\n",
    "\n",
    "torch.manual_seed(1)"
   ]
  },
  {
   "cell_type": "code",
   "execution_count": 70,
   "metadata": {
    "tags": []
   },
   "outputs": [
    {
     "name": "stdout",
     "output_type": "stream",
     "text": [
      "tensor([0.0900, 0.2447, 0.6652])\n"
     ]
    }
   ],
   "source": [
    "z = torch.FloatTensor([1,2,3])\n",
    "\n",
    "# 이 텐서를 소프트맥스 함수의 입력으로 사용하고, 그 결과를 확인해보겠습니다.\n",
    "hypothesis = F.softmax(z, dim=0)\n",
    "print(hypothesis)"
   ]
  },
  {
   "cell_type": "code",
   "execution_count": 71,
   "metadata": {
    "tags": []
   },
   "outputs": [
    {
     "name": "stdout",
     "output_type": "stream",
     "text": [
      "tensor(1.)\n"
     ]
    }
   ],
   "source": [
    "# 3 개의 원소의 값이 0과 1사이의 값을 가지는 백터로 변환된 것을 볼 수 있습니다. \n",
    "# 이 원소들의 값의 합이 1인지 확인\n",
    "hypothesis_sum_test = hypothesis.sum()\n",
    "print(hypothesis_sum_test)"
   ]
  },
  {
   "cell_type": "code",
   "execution_count": 79,
   "metadata": {
    "tags": []
   },
   "outputs": [
    {
     "name": "stdout",
     "output_type": "stream",
     "text": [
      "tensor([[0.1703, 0.2118, 0.1857, 0.1963, 0.2359],\n",
      "        [0.2328, 0.2268, 0.1060, 0.2356, 0.1987],\n",
      "        [0.3189, 0.2760, 0.1258, 0.1234, 0.1559]], grad_fn=<SoftmaxBackward>)\n"
     ]
    }
   ],
   "source": [
    "# 총 원소의 값이 합은 1입니다. \n",
    "# loss 함수를 구현 우선 임의의 3x5행렬의 크기를 가진 텐서 생성\n",
    "z = torch.rand(3,5 ,requires_grad=True)\n",
    "\n",
    "# 소프트맥스 함수를 적용합니다 단 각 샘플에 대해서 소프트맥스 함수를 적용하여야 하므로 두번째 차원에 대해서 \n",
    "# 소프트맥스 함수를 적용한다는 의미에서 dim=1 을 써줍니다.\n",
    "\n",
    "hypothesis = F.softmax(z, dim=1)\n",
    "print(hypothesis)"
   ]
  },
  {
   "cell_type": "code",
   "execution_count": 80,
   "metadata": {
    "tags": []
   },
   "outputs": [],
   "source": [
    "# 각 행의 원소들의 합은 1이 되는 텐서로 변환되었습니다. \n",
    "# hypothesis_sum_test_code = hypothesis[0].sum()\n",
    "# print(hypothesis_sum_test_code)\n",
    "\n",
    "# 소프트맥스 함수의 출력값은 결국 예측값입니다. 즉 위 텐서 3개의 샘플에 대해서 5개의 클래스 중 어떤 클래스가 정답인지를 예측한 결과입니다.\n",
    "# 각 샘플에 대해서 임의의 레이블을 만듬\n",
    "\n"
   ]
  },
  {
   "cell_type": "code",
   "execution_count": 81,
   "metadata": {
    "tags": []
   },
   "outputs": [
    {
     "name": "stdout",
     "output_type": "stream",
     "text": [
      "tensor([3, 1, 2])\n"
     ]
    }
   ],
   "source": [
    "# torch.randint -> 주어진 범위 내의 정수를 균등하게 생성\n",
    "# [1,2,3]\n",
    "y = torch.randint(5,(3,)).long()\n",
    "print(y)"
   ]
  },
  {
   "cell_type": "code",
   "execution_count": 82,
   "metadata": {
    "tags": []
   },
   "outputs": [
    {
     "name": "stdout",
     "output_type": "stream",
     "text": [
      "tensor([[0., 0., 0., 1., 0.],\n",
      "        [0., 1., 0., 0., 0.],\n",
      "        [0., 1., 0., 0., 0.]])\n",
      "tensor(1.7283, grad_fn=<MeanBackward0>)\n"
     ]
    }
   ],
   "source": [
    "# 각 레이블에 대해서 원-핫 인코딩을 수행\n",
    "# 모든 원소는 0의 값을 가진 3x5 텐서 생성\n",
    "# zeros_like : 사이즈를 튜플로 입력하지 않고 기존의 텐서로 정의\n",
    "y_one_hot = torch.zeros_like(hypothesis)\n",
    "print(y_ont_hot)\n",
    "\n",
    "y_one_hot.scatter_(1, y.unsqueeze(1), 1)\n",
    "\n",
    "# y.unsqueeze(1)를 하면 (3,)의 크기를 가졌던 y 텐서는 (3 × 1) 텐서가 됩니다\n",
    "\n",
    "# loss\n",
    "loss = (y_one_hot * -torch.log(hypothesis)).sum(dim=1).mean()\n",
    "print(loss)\n"
   ]
  },
  {
   "cell_type": "code",
   "execution_count": null,
   "metadata": {},
   "outputs": [],
   "source": []
  }
 ],
 "metadata": {
  "kernelspec": {
   "display_name": "Python 3.7.7 64-bit ('dp': venv)",
   "language": "python",
   "name": "python37764bitdpvenv3835be669c484e1397b1b7ff62365c4c"
  },
  "language_info": {
   "codemirror_mode": {
    "name": "ipython",
    "version": 3
   },
   "file_extension": ".py",
   "mimetype": "text/x-python",
   "name": "python",
   "nbconvert_exporter": "python",
   "pygments_lexer": "ipython3",
   "version": "3.7.7"
  }
 },
 "nbformat": 4,
 "nbformat_minor": 2
}
