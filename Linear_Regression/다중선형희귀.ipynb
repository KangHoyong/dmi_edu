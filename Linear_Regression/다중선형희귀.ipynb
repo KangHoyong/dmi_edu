{
 "cells": [
  {
   "cell_type": "code",
   "execution_count": 7,
   "metadata": {},
   "outputs": [],
   "source": [
    "import torch\n",
    "import torch.nn as nn\n",
    "import torch.nn.functional as F \n",
    "import torch.optim as optim\n",
    "\n",
    "torch.manual_seed(1)\n",
    "\n",
    "# 다중 선형 희귀 실습\n",
    "# 앞서 배운 x가 1개인 선형 희귀를 단순 선형 이라고 합니다.\n",
    "# 이번 배울것은 다수의 x 로부터 y를 예측하는 다중 선형 희귀\n",
    "\n",
    "# H(x) = w1x1 + w2x2 + w3x3 + b \n",
    "x1_train = torch.FloatTensor([[73], [93], [89], [96], [73]])\n",
    "x2_train = torch.FloatTensor([[80], [88], [91], [98], [66]])\n",
    "x3_train = torch.FloatTensor([[75], [93], [90], [100], [70]])\n",
    "y_train = torch.FloatTensor([[152], [185], [180], [196], [142]])"
   ]
  },
  {
   "cell_type": "code",
   "execution_count": 8,
   "metadata": {},
   "outputs": [],
   "source": [
    "# 가중치 w와 편향 b를 선언 합니다. 가중치 w도 3개 선언 \n",
    "w1 = torch.zeros(1, requires_grad=True)\n",
    "w2 = torch.zeros(1, requires_grad=True)\n",
    "w3 = torch.zeros(1, requires_grad=True)\n",
    "b = torch.zeros(1, requires_grad=True)"
   ]
  },
  {
   "cell_type": "code",
   "execution_count": 10,
   "metadata": {},
   "outputs": [
    {
     "name": "stdout",
     "output_type": "stream",
     "text": [
      "Epoch    0/1000 w1 0.297 w2 0.296 w3 0.300 b -1.662 loss 30233.994141\n",
      "Epoch  100/1000 w1 0.680 w2 0.667 w3 0.682 b -1.657 loss 1.854191\n",
      "Epoch  200/1000 w1 0.686 w2 0.661 w3 0.683 b -1.657 loss 1.784156\n",
      "Epoch  300/1000 w1 0.692 w2 0.655 w3 0.683 b -1.657 loss 1.717737\n",
      "Epoch  400/1000 w1 0.697 w2 0.650 w3 0.683 b -1.656 loss 1.654753\n",
      "Epoch  500/1000 w1 0.703 w2 0.644 w3 0.683 b -1.656 loss 1.595011\n",
      "Epoch  600/1000 w1 0.708 w2 0.639 w3 0.683 b -1.656 loss 1.538344\n",
      "Epoch  700/1000 w1 0.713 w2 0.633 w3 0.684 b -1.656 loss 1.484591\n",
      "Epoch  800/1000 w1 0.718 w2 0.628 w3 0.684 b -1.656 loss 1.433595\n",
      "Epoch  900/1000 w1 0.723 w2 0.623 w3 0.684 b -1.655 loss 1.385210\n",
      "Epoch 1000/1000 w1 0.728 w2 0.619 w3 0.684 b -1.655 loss 1.339321\n"
     ]
    }
   ],
   "source": [
    "# 가설 loss fn optim 선언 후 경사 하강법을 1000회 반복\n",
    "optimizer = optim.SGD([w1, w2, w3, b], lr=1e-5)\n",
    "\n",
    "epoch_num = 1000\n",
    "\n",
    "for epoch in range(epoch_num + 1):\n",
    "    \n",
    "    # H(x) 계산\n",
    "    # 설을 선언하는 부분인 hypothesis = x1_train * w1 + x2_train * w2 + x3_train * w3 + b에서도 x_train의 개수만큼 w와 곱해주도록\n",
    "    hypothesis = x1_train * w1 + x2_train * w2 + x3_train * w3 + b\n",
    "    \n",
    "    # loss \n",
    "    loss = torch.mean((hypothesis - y_train) ** 2)\n",
    "    \n",
    "    # loss로 H(x) 개선\n",
    "    optimizer.zero_grad()\n",
    "    loss.backward()\n",
    "    optimizer.step()\n",
    "    \n",
    "    # 100번 마다 로그 출력 \n",
    "    if epoch % 100 == 0 :\n",
    "        print(\"Epoch {:4d}/{} w1 {:.3f} w2 {:.3f} w3 {:.3f} b {:.3f} loss {:.6f}\".format(epoch, epoch_num , w1.item() , w2.item(),\n",
    "                                                                                         w3.item(), b.item() , loss.item()))"
   ]
  },
  {
   "cell_type": "code",
   "execution_count": null,
   "metadata": {},
   "outputs": [],
   "source": []
  }
 ],
 "metadata": {
  "kernelspec": {
   "display_name": "Python 3.7.7 64-bit ('dp': venv)",
   "language": "python",
   "name": "python37764bitdpvenv3835be669c484e1397b1b7ff62365c4c"
  },
  "language_info": {
   "codemirror_mode": {
    "name": "ipython",
    "version": 3
   },
   "file_extension": ".py",
   "mimetype": "text/x-python",
   "name": "python",
   "nbconvert_exporter": "python",
   "pygments_lexer": "ipython3",
   "version": "3.7.7"
  }
 },
 "nbformat": 4,
 "nbformat_minor": 4
}
