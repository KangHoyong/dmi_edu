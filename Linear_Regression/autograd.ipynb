{
 "cells": [
  {
   "cell_type": "code",
   "execution_count": 8,
   "metadata": {},
   "outputs": [
    {
     "name": "stdout",
     "output_type": "stream",
     "text": [
      "수식을 w로 미분한 값 : 8.0 \n"
     ]
    }
   ],
   "source": [
    "# 자동미분 실습하기 \n",
    "import torch \n",
    "\n",
    "# 값이 2인 임의의 스칼라 텐서 w 를 선언이때 required_grad를 True로 설정합니다. \n",
    "# 이는 이 텐서에 대한 기울기를 저장하겠다는 의미입니다. 뒤에서 보겠지만, 이렇게 하면 w.grad에 w에 대한 미분값이 저장됩니다.\n",
    "# 결론 연산을 기록\n",
    "\n",
    "w = torch.tensor(2.0, requires_grad=True)\n",
    "\n",
    "# 2w^2 + 5 -> 8 \n",
    "\n",
    "# 수식 정의 \n",
    "y = w**2\n",
    "z = 2*y + 5 \n",
    "\n",
    "# 이제 해당 수식을 w에 대해서 미분 BackWard()를 호출하면 해당 수식의 w에 대한 기울기계산\n",
    "\n",
    "z.backward()\n",
    "\n",
    "print(\"수식을 w로 미분한 값 : {} \".format(w.grad))\n",
    "\n"
   ]
  },
  {
   "cell_type": "code",
   "execution_count": null,
   "metadata": {},
   "outputs": [],
   "source": []
  }
 ],
 "metadata": {
  "kernelspec": {
   "display_name": "Python 3.7.7 64-bit ('dp': venv)",
   "language": "python",
   "name": "python37764bitdpvenv3835be669c484e1397b1b7ff62365c4c"
  },
  "language_info": {
   "codemirror_mode": {
    "name": "ipython",
    "version": 3
   },
   "file_extension": ".py",
   "mimetype": "text/x-python",
   "name": "python",
   "nbconvert_exporter": "python",
   "pygments_lexer": "ipython3",
   "version": "3.7.7"
  }
 },
 "nbformat": 4,
 "nbformat_minor": 4
}
