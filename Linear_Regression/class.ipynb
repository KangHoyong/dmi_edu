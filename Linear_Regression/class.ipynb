{
 "cells": [
  {
   "cell_type": "code",
   "execution_count": 2,
   "metadata": {},
   "outputs": [
    {
     "data": {
      "text/plain": [
       "<torch._C.Generator at 0x10bc63250>"
      ]
     },
     "execution_count": 2,
     "metadata": {},
     "output_type": "execute_result"
    }
   ],
   "source": [
    "# 다중 선형 회귀 클래스 구현 \n",
    "import torch\n",
    "import torch.nn as nn\n",
    "import torch.nn.functional as F\n",
    "\n",
    "torch.manual_seed(1)\n"
   ]
  },
  {
   "cell_type": "code",
   "execution_count": 3,
   "metadata": {},
   "outputs": [],
   "source": [
    "# 데이터 생성\n",
    "x_train = torch.FloatTensor([[73, 80, 75],\n",
    "                             [93, 88, 93],\n",
    "                             [89, 91, 90],\n",
    "                             [96, 98, 100],\n",
    "                             [73, 66, 70]])\n",
    "y_train = torch.FloatTensor([[152], [185], [180], [196], [142]])"
   ]
  },
  {
   "cell_type": "code",
   "execution_count": 4,
   "metadata": {},
   "outputs": [],
   "source": [
    "# class 생성\n",
    "class MultivariateLinearRegressionModel(nn.Module):\n",
    "    def __init__(self):\n",
    "        super().__init__()\n",
    "        self.linear = nn.Linear(3, 1) # 다중 선형 희귀이므로 input_dim = 3 , output_dim = 1 \n",
    "\n",
    "    def forward(self , x):\n",
    "        return self.linear(x)\n"
   ]
  },
  {
   "cell_type": "code",
   "execution_count": 5,
   "metadata": {},
   "outputs": [],
   "source": [
    "# model 정의 \n",
    "model = MultivariateLinearRegressionModel()\n",
    "\n",
    "# optimizer 선언 \n",
    "optimizer = torch.optim.SGD(model.parameters(), lr = 1e-5)"
   ]
  },
  {
   "cell_type": "code",
   "execution_count": 46,
   "metadata": {
    "tags": []
   },
   "outputs": [
    {
     "name": "stdout",
     "output_type": "stream",
     "text": [
      "Epoch    0/2000 loss: 39633.414062\n",
      "Epoch  100/2000 loss: 11.480746\n",
      "Epoch  200/2000 loss: 10.894581\n",
      "Epoch  300/2000 loss: 10.339350\n",
      "Epoch  400/2000 loss: 9.813330\n",
      "Epoch  500/2000 loss: 9.315021\n",
      "Epoch  600/2000 loss: 8.842962\n",
      "Epoch  700/2000 loss: 8.395709\n",
      "Epoch  800/2000 loss: 7.971994\n",
      "Epoch  900/2000 loss: 7.570622\n",
      "Epoch 1000/2000 loss: 7.190376\n",
      "Epoch 1100/2000 loss: 6.830102\n",
      "Epoch 1200/2000 loss: 6.488817\n",
      "Epoch 1300/2000 loss: 6.165441\n",
      "Epoch 1400/2000 loss: 5.859081\n",
      "Epoch 1500/2000 loss: 5.568844\n",
      "Epoch 1600/2000 loss: 5.293897\n",
      "Epoch 1700/2000 loss: 5.033367\n",
      "Epoch 1800/2000 loss: 4.786553\n",
      "Epoch 1900/2000 loss: 4.552664\n",
      "Epoch 2000/2000 loss: 4.331113\n"
     ]
    }
   ],
   "source": [
    "# train 생성 \n",
    "# 얼마 만큼 반복할 것 인가 ?! \n",
    "epochs_num = 2000\n",
    "for epoch in range(epochs_num + 1):\n",
    "\n",
    "    # H(x) 계산\n",
    "    prediction = model(x_train)\n",
    "    # model(x_train) == model.forward(x_trina)\n",
    "\n",
    "    # loss \n",
    "    loss = F.mse_loss(prediction, y_train) # 파이토치에서 제공하는 평균 재곱 오차 함수\n",
    "\n",
    "    # loss 개선\n",
    "    optimizer.zero_grad() # 기울기를 0으로 초기화 \n",
    "    loss.backward() # loss 함수를 미분하여 기울기 계산 \n",
    "    optimizer.step() # w와 b 를 업데이트 \n",
    "\n",
    "    # 100번 마다 로그 출력 \n",
    "    if epoch % 100 == 0:\n",
    "        print(\"Epoch {:4d}/{} loss: {:.6f}\".format(epoch, epochs_num , loss.item()))\n",
    "    "
   ]
  },
  {
   "cell_type": "code",
   "execution_count": 47,
   "metadata": {
    "tags": []
   },
   "outputs": [
    {
     "name": "stdout",
     "output_type": "stream",
     "text": [
      "훈련 후 입력이 tensor([[73., 82., 72.]])일 때의 예측값 :  tensor([[153.5154]], grad_fn=<AddmmBackward>)\n"
     ]
    }
   ],
   "source": [
    "# 훈련이 되었는지 안되었는지 확인하기 \n",
    "# 임의의 입력 [73, 82 , 72]\n",
    "new_var = torch.FloatTensor([[73, 82, 72]])\n",
    "pred_y = model(new_var)\n",
    "print(f\"훈련 후 입력이 {new_var}일 때의 예측값 : \" , pred_y)"
   ]
  },
  {
   "cell_type": "code",
   "execution_count": null,
   "metadata": {},
   "outputs": [],
   "source": []
  }
 ],
 "metadata": {
  "kernelspec": {
   "display_name": "Python 3.7.7 64-bit ('dp': venv)",
   "language": "python",
   "name": "python37764bitdpvenv3835be669c484e1397b1b7ff62365c4c"
  },
  "language_info": {
   "codemirror_mode": {
    "name": "ipython",
    "version": 3
   },
   "file_extension": ".py",
   "mimetype": "text/x-python",
   "name": "python",
   "nbconvert_exporter": "python",
   "pygments_lexer": "ipython3",
   "version": "3.7.7"
  }
 },
 "nbformat": 4,
 "nbformat_minor": 2
}
