{
 "cells": [
  {
   "cell_type": "code",
   "execution_count": 4,
   "metadata": {
    "tags": []
   },
   "outputs": [
    {
     "output_type": "stream",
     "name": "stdout",
     "text": "수식을 w로 미분한 값 : 2.0 \n수식을 w로 미분한 값 : 4.0 \n수식을 w로 미분한 값 : 6.0 \n수식을 w로 미분한 값 : 8.0 \n수식을 w로 미분한 값 : 10.0 \n수식을 w로 미분한 값 : 12.0 \n수식을 w로 미분한 값 : 14.0 \n수식을 w로 미분한 값 : 16.0 \n수식을 w로 미분한 값 : 18.0 \n수식을 w로 미분한 값 : 20.0 \n수식을 w로 미분한 값 : 22.0 \n수식을 w로 미분한 값 : 24.0 \n수식을 w로 미분한 값 : 26.0 \n수식을 w로 미분한 값 : 28.0 \n수식을 w로 미분한 값 : 30.0 \n수식을 w로 미분한 값 : 32.0 \n수식을 w로 미분한 값 : 34.0 \n수식을 w로 미분한 값 : 36.0 \n수식을 w로 미분한 값 : 38.0 \n수식을 w로 미분한 값 : 40.0 \n수식을 w로 미분한 값 : 42.0 \n"
    }
   ],
   "source": [
    "# 파이토치는 미분을 통해 얻은 기울기를 이전에 계산된 기울기 값에 누적시키는 특성 \n",
    "import torch\n",
    "\n",
    "\n",
    "# requires_grad = True 이 변수는 학습을 통해 계속 값이 변경되는 변수임을 의미합니다.\n",
    "\n",
    "w = torch.tensor(2.0 , requires_grad = True)\n",
    "\n",
    "for epoch in range(21):\n",
    "    \n",
    "    z = 2 * w \n",
    "    \n",
    "    z.backward()\n",
    "    \n",
    "    \n",
    "    print(\"수식을 w로 미분한 값 : {} \".format(w.grad))\n",
    "    \n"
   ]
  },
  {
   "cell_type": "code",
   "execution_count": null,
   "metadata": {},
   "outputs": [],
   "source": [
    "# 계속해서 미분값인 2 가 누적되는것을 확인 그렇기 때문에 optimizer.zero_grad() 를 통해 미분값을 계속 0으로 초기화 필요"
   ]
  }
 ],
 "metadata": {
  "kernelspec": {
   "display_name": "Python 3.7.7 64-bit ('dp': venv)",
   "language": "python",
   "name": "python37764bitdpvenv3835be669c484e1397b1b7ff62365c4c"
  },
  "language_info": {
   "codemirror_mode": {
    "name": "ipython",
    "version": 3
   },
   "file_extension": ".py",
   "mimetype": "text/x-python",
   "name": "python",
   "nbconvert_exporter": "python",
   "pygments_lexer": "ipython3",
   "version": "3.7.7-final"
  }
 },
 "nbformat": 4,
 "nbformat_minor": 4
}