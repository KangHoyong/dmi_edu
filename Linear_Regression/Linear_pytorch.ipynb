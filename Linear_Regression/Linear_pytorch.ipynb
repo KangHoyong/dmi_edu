{
 "cells": [
  {
   "cell_type": "code",
   "execution_count": 1,
   "metadata": {},
   "outputs": [],
   "source": [
    "import torch\n",
    "import torch.nn as nn\n",
    "import torch.nn.functional as F \n",
    "import torch.optim as optim "
   ]
  },
  {
   "cell_type": "code",
   "execution_count": 2,
   "metadata": {},
   "outputs": [
    {
     "data": {
      "text/plain": [
       "<torch._C.Generator at 0x11d0221f0>"
      ]
     },
     "execution_count": 2,
     "metadata": {},
     "output_type": "execute_result"
    }
   ],
   "source": [
    "# 현재 실습하고 있는 파이썬 코드 재실행 해도 다음에도 같은 결과가 나오도록 랜덤 시드 설정 \n",
    "torch.manual_seed(1)"
   ]
  },
  {
   "cell_type": "code",
   "execution_count": 3,
   "metadata": {},
   "outputs": [
    {
     "name": "stdout",
     "output_type": "stream",
     "text": [
      "x_train , x_train_shape\n",
      "tensor([[1.],\n",
      "        [2.],\n",
      "        [3.]])\n",
      "torch.Size([3, 1])\n",
      "\n",
      "y_train , y_train_shape\n",
      "tensor([[2.],\n",
      "        [4.],\n",
      "        [6.]])\n",
      "torch.Size([3, 1])\n"
     ]
    }
   ],
   "source": [
    "# 실습을 위한 기본 셋팅 작업 완료 \n",
    "# 훈련 데이터 x_train y_train 을 선언 \n",
    "\n",
    "x_train = torch.FloatTensor([[1], [2], [3]])\n",
    "y_train = torch.FloatTensor([[2], [4], [6]])\n",
    "\n",
    "# x_train 와 shape 출력\n",
    "print(\"x_train , x_train_shape\")\n",
    "print(x_train)\n",
    "print(x_train.size()) # or x_trian.shape\n",
    "\n",
    "# x_train 값 x_trian size = 3x1 \n",
    "\n",
    "print(\"\")\n",
    "# y_train and y_train shape output \n",
    "print(\"y_train , y_train_shape\")\n",
    "print(y_train)\n",
    "print(y_train.shape)\n",
    "\n",
    "# y_train 값  y_trian size = 3x1"
   ]
  },
  {
   "cell_type": "code",
   "execution_count": 4,
   "metadata": {},
   "outputs": [
    {
     "name": "stdout",
     "output_type": "stream",
     "text": [
      "가중치 w  :  tensor([0.], requires_grad=True)\n",
      "편향 b :  tensor([0.], requires_grad=True)\n"
     ]
    }
   ],
   "source": [
    "# 가중치와 편향의 초기화 \n",
    "# 선형희귀란 학습 데이터와 가장 잘 맞는 하나의 직선을 찾는 일입니다.\n",
    "# 그리고 가장 잘 맞는 직선을 정의하는 것은 바로 W and b 입니다.\n",
    "# 선형희귀의 목표는 가장 잘 마즌 직선을 정의하는 W and b 입니다.\n",
    "\n",
    "# 가중치 0으로 초기화하고 이 값을 출력 편향 b도 0으로 초기화\n",
    "# requires_grad = True -> 학습을 통해 계속. 값이 변경되는 변수임을 의미합니다 \n",
    "w = torch.zeros(1, requires_grad = True) \n",
    "print(\"가중치 w  : \", w)  \n",
    "\n",
    "b = torch.zeros(1, requires_grad = True)\n",
    "print(\"편향 b : \", b)\n",
    "\n",
    "# W 와 b 둘다 0 이므로 현 직선의 방정식 다음과 같습니다.\n",
    "# 현재의 가중치 : y = 0 * x + 0 \n",
    "# 지금 상태에선 x에 어떤 값이 들어가도 가설은 0을 예측하게 됩니다. 즉 아직 적절한 W와 b의 값이 아닙니다.\n"
   ]
  },
  {
   "cell_type": "code",
   "execution_count": 5,
   "metadata": {},
   "outputs": [
    {
     "name": "stdout",
     "output_type": "stream",
     "text": [
      "가설 : \n",
      " tensor([[0.],\n",
      "        [0.],\n",
      "        [0.]], grad_fn=<AddBackward0>)\n"
     ]
    }
   ],
   "source": [
    "# 가설 세우기 \n",
    "# 파이토치 코드 상으로 직선의 방정식에 해당되는 가설을 선언\n",
    "hypothesis = x_train * w + b \n",
    "print(\"가설 : \\n\" , hypothesis)"
   ]
  },
  {
   "cell_type": "code",
   "execution_count": 6,
   "metadata": {},
   "outputs": [
    {
     "name": "stdout",
     "output_type": "stream",
     "text": [
      "tensor(18.6667, grad_fn=<MeanBackward0>)\n"
     ]
    }
   ],
   "source": [
    "# loss fn 선언 하기 \n",
    "# 평균 제곱 오차를 선언\n",
    "loss =torch.mean((hypothesis - y_train) ** 2)\n",
    "print(loss) "
   ]
  },
  {
   "cell_type": "code",
   "execution_count": 7,
   "metadata": {},
   "outputs": [],
   "source": [
    "# 경사 하강법 구현 하기 \n",
    "# input w b 가 sgd 의 입력이 됩니다.\n",
    "optimizer = optim.SGD([w, b] , lr = 0.01)\n",
    "\n",
    "# SGD -> 경사 하강법의 일종입니다.\n"
   ]
  },
  {
   "cell_type": "code",
   "execution_count": 8,
   "metadata": {},
   "outputs": [
    {
     "name": "stdout",
     "output_type": "stream",
     "text": [
      "Epoch    0/2000 W : 0.353, b : 0.151 loss : 14.770963\n",
      "Epoch  100/2000 W : 1.746, b : 0.577 loss : 0.047939\n",
      "Epoch  200/2000 W : 1.801, b : 0.453 loss : 0.029624\n",
      "Epoch  300/2000 W : 1.843, b : 0.356 loss : 0.018306\n",
      "Epoch  400/2000 W : 1.877, b : 0.280 loss : 0.011312\n",
      "Epoch  500/2000 W : 1.903, b : 0.220 loss : 0.006990\n",
      "Epoch  600/2000 W : 1.924, b : 0.173 loss : 0.004319\n",
      "Epoch  700/2000 W : 1.940, b : 0.136 loss : 0.002669\n",
      "Epoch  800/2000 W : 1.953, b : 0.107 loss : 0.001649\n",
      "Epoch  900/2000 W : 1.963, b : 0.084 loss : 0.001019\n",
      "Epoch 1000/2000 W : 1.971, b : 0.066 loss : 0.000630\n",
      "Epoch 1100/2000 W : 1.977, b : 0.052 loss : 0.000389\n",
      "Epoch 1200/2000 W : 1.982, b : 0.041 loss : 0.000240\n",
      "Epoch 1300/2000 W : 1.986, b : 0.032 loss : 0.000149\n",
      "Epoch 1400/2000 W : 1.989, b : 0.025 loss : 0.000092\n",
      "Epoch 1500/2000 W : 1.991, b : 0.020 loss : 0.000057\n",
      "Epoch 1600/2000 W : 1.993, b : 0.016 loss : 0.000035\n",
      "Epoch 1700/2000 W : 1.995, b : 0.012 loss : 0.000022\n",
      "Epoch 1800/2000 W : 1.996, b : 0.010 loss : 0.000013\n",
      "Epoch 1900/2000 W : 1.997, b : 0.008 loss : 0.000008\n",
      "Epoch 2000/2000 W : 1.997, b : 0.006 loss : 0.000005\n"
     ]
    }
   ],
   "source": [
    "# 기울기 0으로 초기화 \n",
    "optimizer.zero_grad()\n",
    "\n",
    "# loss fn 미분하여 기울기 계산\n",
    "loss.backward()\n",
    "\n",
    "# w 와 b 값을 업데이트\n",
    "optimizer.step()\n",
    "\n",
    "# 학습을 진행 \n",
    "epoch_num = 2000 # 원하는 만큼 경사 하강법을 반복 \n",
    "\n",
    "# epoch : 전체 훈련 데이터가 학습에 한 번 사용된 주기를 말합니다.\n",
    "for epoch in range(epoch_num + 1):\n",
    "    \n",
    "    # Hypothesis 가설 계산\n",
    "    hypothesis = x_train * w + b \n",
    "    \n",
    "    # loss 계산\n",
    "    loss = torch.mean((hypothesis - y_train) ** 2)\n",
    "    \n",
    "    # loss H(x) 개선\n",
    "    optimizer.zero_grad()\n",
    "    loss.backward()\n",
    "    optimizer.step()\n",
    "    \n",
    "    # 100번 마다 print Epoch w b loss \n",
    "    if epoch % 100 == 0 :\n",
    "        print(\"Epoch {:4d}/{} W : {:.3f}, b : {:.3f} loss : {:.6f}\"\n",
    "              .format(epoch , epoch_num, w.item(), b.item(), loss.item()))\n"
   ]
  },
  {
   "cell_type": "code",
   "execution_count": 9,
   "metadata": {},
   "outputs": [
    {
     "data": {
      "text/plain": [
       "'\\n최종 훈련 결과를 보면 최적의 기울기 W는 2에 가깝고, b는 0에 가까운 것을 볼 수 있습니다.\\n현재 훈련 데이터가 x_train은 [[1], [2], [3]]이고 y_train은 [[2], [4], [6]]인 것을 감안하면\\n실제 정답은 W가 2이고, b가 0인 H(x)=2x이므로 거의 정답을 찾은 셈입니다.\\n'"
      ]
     },
     "execution_count": 9,
     "metadata": {},
     "output_type": "execute_result"
    }
   ],
   "source": [
    "# 결과\n",
    "\"\"\"\n",
    "최종 훈련 결과를 보면 최적의 기울기 W는 2에 가깝고, b는 0에 가까운 것을 볼 수 있습니다.\n",
    "현재 훈련 데이터가 x_train은 [[1], [2], [3]]이고 y_train은 [[2], [4], [6]]인 것을 감안하면\n",
    "실제 정답은 W가 2이고, b가 0인 H(x)=2x이므로 거의 정답을 찾은 셈입니다.\n",
    "\"\"\""
   ]
  },
  {
   "cell_type": "code",
   "execution_count": null,
   "metadata": {},
   "outputs": [],
   "source": []
  }
 ],
 "metadata": {
  "kernelspec": {
   "display_name": "Python 3.7.7 64-bit ('dp': venv)",
   "language": "python",
   "name": "python37764bitdpvenv3835be669c484e1397b1b7ff62365c4c"
  },
  "language_info": {
   "codemirror_mode": {
    "name": "ipython",
    "version": 3
   },
   "file_extension": ".py",
   "mimetype": "text/x-python",
   "name": "python",
   "nbconvert_exporter": "python",
   "pygments_lexer": "ipython3",
   "version": "3.7.7"
  }
 },
 "nbformat": 4,
 "nbformat_minor": 4
}
