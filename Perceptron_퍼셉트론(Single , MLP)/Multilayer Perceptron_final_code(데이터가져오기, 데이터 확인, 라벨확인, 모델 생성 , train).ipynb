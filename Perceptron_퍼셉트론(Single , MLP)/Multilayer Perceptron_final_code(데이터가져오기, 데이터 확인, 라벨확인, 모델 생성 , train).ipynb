{
 "cells": [
  {
   "cell_type": "code",
   "execution_count": 4,
   "metadata": {
    "scrolled": true
   },
   "outputs": [
    {
     "name": "stdout",
     "output_type": "stream",
     "text": [
      "[[ 0.  0.  5. 13.  9.  1.  0.  0.]\n",
      " [ 0.  0. 13. 15. 10. 15.  5.  0.]\n",
      " [ 0.  3. 15.  2.  0. 11.  8.  0.]\n",
      " [ 0.  4. 12.  0.  0.  8.  8.  0.]\n",
      " [ 0.  5.  8.  0.  0.  9.  8.  0.]\n",
      " [ 0.  4. 11.  0.  1. 12.  7.  0.]\n",
      " [ 0.  2. 14.  5. 10. 12.  0.  0.]\n",
      " [ 0.  0.  6. 13. 10.  0.  0.  0.]]\n"
     ]
    }
   ],
   "source": [
    "# 다중 퍼셉트론으로 손글씨 분류 \n",
    "# 다층 퍼셉트론 구현하고 딥 러닝을 통해서 숫자 필기 데이터를 분류 \n",
    "# 사이킷런 패키지에서 제공하는 분류용 예제 데이터를 이용 \n",
    "# 0 ~ 9 까지의 숫자를 손으로 쓴 이미지 데이터로 load_digits() 명령으로 로드 \n",
    "# 각 image 사이즈 8 * 8 = 64 픽셀 해당도의 흑백 이미지 , 이미지 갯수 : 1,797개 \n",
    "\n",
    "import matplotlib.pyplot as plt # python as 애칭 (시각화 라이브러리)\n",
    "from sklearn.datasets import load_digits \n",
    "\n",
    "digits = load_digits() # 1,979개 이미지 데이터 로드 \n",
    "\n",
    "# 첫번째 샘플을 출력 .images[인덱스]를 사용하면 해당 인덱스 이미지 행렬로서 출력가능\n",
    "# 8 x 8 행렬 출력 \n",
    "# 0을 흰색 도화지 , 0보다 큰 숫자들을 검정색으로 상상해보면 숫자 0에 실루엣처럼 보임\n",
    "print(digits.images[0])\n"
   ]
  },
  {
   "cell_type": "code",
   "execution_count": 15,
   "metadata": {},
   "outputs": [
    {
     "name": "stdout",
     "output_type": "stream",
     "text": [
      "0\n",
      "전체 샘플의 수 :  1797\n"
     ]
    }
   ],
   "source": [
    "# 실제로 레이블도 숫자 0 인지 첫번째 샘플레이어 확인\n",
    "print(digits.target[0])\n",
    "\n",
    "# 실제 셈플의 레이블이 몇개인지 확인 \n",
    "# len() 함수를 이용하여 전체 이미지 갯수를 파악한다.\n",
    "print(\"전체 샘플의 수 : \" , len(digits.images))"
   ]
  },
  {
   "cell_type": "code",
   "execution_count": 21,
   "metadata": {},
   "outputs": [
    {
     "data": {
      "image/png": "[encoded data removed]",
      "text/plain": [
       "<Figure size 432x288 with 4 Axes>"
      ]
     },
     "metadata": {
      "needs_background": "light"
     },
     "output_type": "display_data"
    }
   ],
   "source": [
    "# 상위 5개만 샘플이미지를 확인\n",
    "# zip 설명 images 와 target 을 하나로 묶기 위한것 \n",
    "\"\"\"\n",
    " image = [1, 2, 3, 4]\n",
    " label = [사과, 자몽, 바나나, 수박]\n",
    " list(zip(images, label))\n",
    " 1 사과 , 2 자몽 3 바나나 4 수박 \n",
    "\"\"\"\n",
    "images_and_lables = list(zip(digits.images, digits.target))\n",
    "\n",
    "# enumerate 설명이 필요 \n",
    "# 이미지 시각화 \n",
    "for index , (image, label) in enumerate(images_and_lables[:4]) : \n",
    "    plt.subplot(2, 5 , index + 1) # input (이미지 target , 보여줄 이미지 갯수 , 반복 )\n",
    "    plt.axis('off')\n",
    "    plt.imshow(image, cmap=plt.cm.gray_r, interpolation='nearest')\n",
    "    plt.title('sample: %i' % label)"
   ]
  },
  {
   "cell_type": "code",
   "execution_count": 23,
   "metadata": {},
   "outputs": [
    {
     "name": "stdout",
     "output_type": "stream",
     "text": [
      "0 번 index sample label :  0\n",
      "1 번 index sample label :  1\n",
      "2 번 index sample label :  2\n",
      "3 번 index sample label :  3\n",
      "4 번 index sample label :  4\n"
     ]
    }
   ],
   "source": [
    "# 상위 5개의 레이블 확인 \n",
    "# range 설명필요 \n",
    "\n",
    "for i in range(5): \n",
    "    # label test print code \n",
    "    print(i, \"번 index sample label : \" , digits.target[i])\n"
   ]
  },
  {
   "cell_type": "code",
   "execution_count": 25,
   "metadata": {},
   "outputs": [
    {
     "name": "stdout",
     "output_type": "stream",
     "text": [
      "[ 0.  0.  5. 13.  9.  1.  0.  0.  0.  0. 13. 15. 10. 15.  5.  0.  0.  3.\n",
      " 15.  2.  0. 11.  8.  0.  0.  4. 12.  0.  0.  8.  8.  0.  0.  5.  8.  0.\n",
      "  0.  9.  8.  0.  0.  4. 11.  0.  1. 12.  7.  0.  0.  2. 14.  5. 10. 12.\n",
      "  0.  0.  0.  0.  6. 13. 10.  0.  0.  0.]\n"
     ]
    }
   ],
   "source": [
    "# 이제 훈련 데이터 와 레이블을 각 x y 저장 \n",
    "# images sample 8x8 행렬로 저장 \n",
    "\n",
    "# digits.data 를 사용 8x8 -> 64차원의 백터로 변환해서 저장한 상태\n",
    "\n",
    "# data test print code\n",
    "# 64차원의 백터로 저장된것을 확인 \n",
    "print(digits.data[0]) \n",
    "\n",
    "x = digits.data # 이미지 \n",
    "y = digits.target # 각 이미지 레이블 "
   ]
  },
  {
   "cell_type": "code",
   "execution_count": 26,
   "metadata": {},
   "outputs": [
    {
     "name": "stdout",
     "output_type": "stream",
     "text": [
      "Epoch    0/100 loss : 2.528834\n",
      "Epoch   10/100 loss : 2.160639\n",
      "Epoch   20/100 loss : 1.911613\n",
      "Epoch   30/100 loss : 1.562537\n",
      "Epoch   40/100 loss : 1.184655\n",
      "Epoch   50/100 loss : 0.838152\n",
      "Epoch   60/100 loss : 0.578841\n",
      "Epoch   70/100 loss : 0.411100\n",
      "Epoch   80/100 loss : 0.305692\n",
      "Epoch   90/100 loss : 0.239095\n"
     ]
    }
   ],
   "source": [
    "# 다층 퍼셉트론 분류기 만들기 \n",
    "\n",
    "# 파이토치 기초 필요 \n",
    "# Loss funtion 등등이 필요 \n",
    "\n",
    "import torch\n",
    "import torch.nn as nn\n",
    "from torch import optim \n",
    "\n",
    "model = nn.Sequential (\n",
    "    nn.Linear(64,  32), # input_layer = 64 hidden_layer1 = 32\n",
    "    nn.ReLU(), \n",
    "    nn.Linear(32, 16) , # input_layer = 32 hidden_layer3 = 16\n",
    "    nn.ReLU(),\n",
    "    nn.Linear(16, 10)   # input_layer = 16 output_layer = 10 \n",
    "    # CrossEntropyLoss() : output_layer = 2 이상인 경우\n",
    ")\n",
    "x = torch.tensor(x, dtype = torch.float32)\n",
    "y = torch.tensor(y, dtype = torch.int64)\n",
    "\n",
    "loss_fn = nn.CrossEntropyLoss() # 이 함수는 소프트맥스 함수를 포함 \n",
    "\n",
    "optimizer = optim.Adam(model.parameters())\n",
    "\n",
    "losses = [] \n",
    "for epoch in range(100):\n",
    "    optimizer.zero_grad()\n",
    "    y_pred = model(x) \n",
    "    loss = loss_fn(y_pred, y)\n",
    "    loss.backward()\n",
    "    optimizer.step()\n",
    "    \n",
    "    if epoch % 10 == 0 :\n",
    "        # train print code \n",
    "        print('Epoch {:4d}/{} loss : {:.6f}'.format(epoch, 100 , loss.item()))\n",
    "    \n",
    "    # append 설명 \n",
    "    losses.append(loss.item())"
   ]
  },
  {
   "cell_type": "code",
   "execution_count": 31,
   "metadata": {},
   "outputs": [
    {
     "data": {
      "text/plain": [
       "[<matplotlib.lines.Line2D at 0x13919e850>]"
      ]
     },
     "execution_count": 31,
     "metadata": {},
     "output_type": "execute_result"
    },
    {
     "data": {
      "image/png": "[encoded data removed]",
      "text/plain": [
       "<Figure size 432x288 with 1 Axes>"
      ]
     },
     "metadata": {
      "needs_background": "light"
     },
     "output_type": "display_data"
    }
   ],
   "source": [
    "plt.title('losses')\n",
    "plt.plot(losses)"
   ]
  },
  {
   "cell_type": "code",
   "execution_count": null,
   "metadata": {},
   "outputs": [],
   "source": []
  }
 ],
 "metadata": {
  "kernelspec": {
   "display_name": "Python 3.7.7 64-bit ('dp': venv)",
   "language": "python",
   "name": "python37764bitdpvenv3835be669c484e1397b1b7ff62365c4c"
  },
  "language_info": {
   "codemirror_mode": {
    "name": "ipython",
    "version": 3
   },
   "file_extension": ".py",
   "mimetype": "text/x-python",
   "name": "python",
   "nbconvert_exporter": "python",
   "pygments_lexer": "ipython3",
   "version": "3.7.7"
  }
 },
 "nbformat": 4,
 "nbformat_minor": 4
}