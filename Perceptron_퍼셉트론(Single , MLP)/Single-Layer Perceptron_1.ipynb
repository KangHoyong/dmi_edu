{
 "cells": [
  {
   "cell_type": "code",
   "execution_count": 1,
   "metadata": {},
   "outputs": [
    {
     "data": {
      "text/plain": [
       "(0, 0, 0, 1)"
      ]
     },
     "execution_count": 1,
     "metadata": {},
     "output_type": "execute_result"
    }
   ],
   "source": [
    "# 단층 퍼셉트론 이용하면 AND NAND OR 게이트를 쉽게 구현 가능 \n",
    "# AND 게이트 구현 \n",
    "\n",
    "# AND 게이트의 경우에는 두 개의 입력 값이 모두 1인 경우만 output 1 아닌 경우는 0 \n",
    "# input : x1 , x2 / output : y \n",
    "\n",
    "# x1 = 0 , 0 , 1 , 1 \n",
    "# x2 = 0 , 1 , 0 , 1 \n",
    "# y  = 0 , 0 , 0 , 1 \n",
    "\n",
    "\n",
    "# AND 게이트를 만족하는 두 개의 가중치와 편향 값에는 뭐가 있는가 ?!\n",
    "# w1 , w2 , b 라고 한다면 (W : 가중치 B 편향 값)\n",
    "# 다양한 가중치와 편향의 조합이 나올수 있다.\n",
    "# ex) [0.5, 0.5, -0.7] [0.5, 0.5, -0.8] [1.0 , 1.0 , -1.0]\n",
    "\n",
    "def AND_gate(x1 , x2):\n",
    "    w1 = 0.5\n",
    "    w2 = 0.5\n",
    "    b = -0.7\n",
    "    \n",
    "    result = x1 * w1 + x2 * w2 + b # 단층 퍼셉트론 공식 = y \n",
    "    \n",
    "    if result <= 0:\n",
    "        return 0 \n",
    "    else :\n",
    "        return 1\n",
    "    \n",
    "    \n",
    "# x1 = 0, 0, 1, 1\n",
    "# x2 = 0, 1, 0, 1\n",
    "# reuslt y = 0 , 0 , 0 , 1 \n",
    "\n",
    "AND_gate(0,0) , AND_gate(0,1) , AND_gate(1,0) , AND_gate(1,1)"
   ]
  },
  {
   "cell_type": "code",
   "execution_count": 3,
   "metadata": {},
   "outputs": [
    {
     "data": {
      "text/plain": [
       "(1, 1, 1, 0)"
      ]
     },
     "execution_count": 3,
     "metadata": {},
     "output_type": "execute_result"
    }
   ],
   "source": [
    "# 단층 퍼셉트론 NAND 게이트 구현 \n",
    "# NAND 게이트 경우 두개의 입력값이 1인 경우에만 출력값이 0 나머지는 쌍에 대해서는 모두 출력값 1 \n",
    "\n",
    "def NAND_gate(x1, x2):\n",
    "    w1 = -0.5\n",
    "    w2 = -0.5\n",
    "    b = 0.7\n",
    "    \n",
    "    result = x1 * w1 + x2 * w2 + b # 단층 퍼셉트론 공식 = y \n",
    "\n",
    "    if result <= 0 : \n",
    "        return 0\n",
    "    else :\n",
    "        return 1 \n",
    "    \n",
    "# x1 = 0, 0, 1, 1\n",
    "# x2 = 0, 1, 0, 1\n",
    "# result y = 1, 1, 1, 0\n",
    "\n",
    "NAND_gate(0,0) , NAND_gate(0,1), NAND_gate(1,0) , NAND_gate(1,1)"
   ]
  },
  {
   "cell_type": "code",
   "execution_count": 5,
   "metadata": {},
   "outputs": [
    {
     "data": {
      "text/plain": [
       "(0, 1, 1, 1)"
      ]
     },
     "execution_count": 5,
     "metadata": {},
     "output_type": "execute_result"
    }
   ],
   "source": [
    "# 단층 퍼셉트론 OR_gate(x1, x2): \n",
    "# 두 값이 0 0 - > 0 , 1 -> 1  두값이 서로 다르면 1\n",
    "\n",
    "def OR_gate(x1 , x2):\n",
    "    # thinking \n",
    "    # w1 , w2 , b [가중치, 가중치, 편향] 을 줄것인가 생각해보기 \n",
    "    w1 = 0.5\n",
    "    w2 = 0.5\n",
    "    b = -0.4\n",
    "    \n",
    "    result = x1 * w1 + x2 * w2 + b # 단층 퍼셉트론 공식 = y \n",
    "    \n",
    "    if result <= 0: \n",
    "        return 0 \n",
    "    else : \n",
    "        return 1 \n",
    "    \n",
    "OR_gate(0,0) , OR_gate(0,1) , OR_gate(1,0) , OR_gate(1,1)"
   ]
  },
  {
   "cell_type": "code",
   "execution_count": null,
   "metadata": {},
   "outputs": [],
   "source": [
    "# 참고 -> XOR 게이트를 구하는 것은 불가능합니다. \n",
    "# XOR 게이트 입력값 두 개가 서로 다른 값을 갖고 있을때만 출력값이 1이 되고 \n",
    "# 입력값이 두 개가 서로 같은 값을 가지면 출력값이 0이 되는 게이트 입니다.\n",
    "# 그 이유는 단층 퍼셉트론은 직선 하나로 두 영역을 나눌 수 있는 문제에 대해서만 구현이 가능하기 때문입니다."
   ]
  }
 ],
 "metadata": {
  "kernelspec": {
   "display_name": "Python 3.7.7 64-bit ('dp': venv)",
   "language": "python",
   "name": "python37764bitdpvenv3835be669c484e1397b1b7ff62365c4c"
  },
  "language_info": {
   "codemirror_mode": {
    "name": "ipython",
    "version": 3
   },
   "file_extension": ".py",
   "mimetype": "text/x-python",
   "name": "python",
   "nbconvert_exporter": "python",
   "pygments_lexer": "ipython3",
   "version": "3.7.7"
  }
 },
 "nbformat": 4,
 "nbformat_minor": 4
}
